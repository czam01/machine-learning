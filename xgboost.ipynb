bucket = 'czam-sagemaker'
prefix = 'sagemaker/xgboost_credit_risk'

# Define IAM role
import boto3
import re
import pandas as pd
import numpy as np
import matplotlib.pyplot as plt
import os
import sagemaker
from sagemaker import get_execution_role
from sagemaker.predictor import csv_serializer

role = get_execution_role()
print (role)

!wget https://archive.ics.uci.edu/ml/machine-learning-databases/00350/default%20of%20credit%20card%20clients.xls

dataset = pd.read_excel('default of credit card clients.xls')
pd.set_option('display.max_rows', 8)
pd.set_option('display.max_columns', 15)
dataset

train_data, validation_data, test_data = np.split(dataset.sample(frac=1, random_state=1729), [int(0.7 * len(dataset)), int(0.9 * len(dataset))])
train_data.to_csv('train.csv', header=False, index=False)
validation_data.to_csv('validation.csv', header=False, index=False)

s3_train_prefix = os.path.join(prefix, 'train/train.csv')
s3_validation_prefix = os.path.join(prefix, 'validation/validation.csv')

s3_train = 's3://{}/{}'.format(bucket, s3_train_prefix)
s3_validation = 's3://{}/{}'.format(bucket, s3_validation_prefix)

boto3.Session().resource('s3').Bucket(bucket).Object(s3_train_prefix).upload_file('train.csv')
boto3.Session().resource('s3').Bucket(bucket).Object(s3_validation_prefix).upload_file('validation.csv')

s3_input_train = sagemaker.session.s3_input(s3_train, content_type='text/csv')
s3_input_validation = sagemaker.session.s3_input(s3_validation, content_type='text/csv')

containers = {'us-east-1': '811284229777.dkr.ecr.us-east-1.amazonaws.com/xgboost:latest'}
sess = sagemaker.Session()

role = get_execution_role()
xgb = sagemaker.estimator.Estimator(containers[boto3.Session().region_name],
                                    role, 
                                    train_instance_count=1, 
                                    train_instance_type='ml.m4.xlarge',
                                    output_path='s3://{}/{}/output'.format(bucket, prefix),
                                    sagemaker_session=sess)

xgb.set_hyperparameters(eta=0.1,
                        objective='binary:logistic',
                        num_round=25)
print (s3_input_train)

xgb.fit({'train': s3_input_train, 'validation': s3_input_validation})
                      
